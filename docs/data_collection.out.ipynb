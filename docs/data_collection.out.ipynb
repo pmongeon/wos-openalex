{
 "cells": [
  {
   "cell_type": "markdown",
   "metadata": {},
   "source": [
    "# Data collection\n",
    "\n",
    "Philippe Mongeon [![](data:image/png;base64,iVBORw0KGgoAAAANSUhEUgAAABAAAAAQCAYAAAAf8/9hAAAAGXRFWHRTb2Z0d2FyZQBBZG9iZSBJbWFnZVJlYWR5ccllPAAAA2ZpVFh0WE1MOmNvbS5hZG9iZS54bXAAAAAAADw/eHBhY2tldCBiZWdpbj0i77u/IiBpZD0iVzVNME1wQ2VoaUh6cmVTek5UY3prYzlkIj8+IDx4OnhtcG1ldGEgeG1sbnM6eD0iYWRvYmU6bnM6bWV0YS8iIHg6eG1wdGs9IkFkb2JlIFhNUCBDb3JlIDUuMC1jMDYwIDYxLjEzNDc3NywgMjAxMC8wMi8xMi0xNzozMjowMCAgICAgICAgIj4gPHJkZjpSREYgeG1sbnM6cmRmPSJodHRwOi8vd3d3LnczLm9yZy8xOTk5LzAyLzIyLXJkZi1zeW50YXgtbnMjIj4gPHJkZjpEZXNjcmlwdGlvbiByZGY6YWJvdXQ9IiIgeG1sbnM6eG1wTU09Imh0dHA6Ly9ucy5hZG9iZS5jb20veGFwLzEuMC9tbS8iIHhtbG5zOnN0UmVmPSJodHRwOi8vbnMuYWRvYmUuY29tL3hhcC8xLjAvc1R5cGUvUmVzb3VyY2VSZWYjIiB4bWxuczp4bXA9Imh0dHA6Ly9ucy5hZG9iZS5jb20veGFwLzEuMC8iIHhtcE1NOk9yaWdpbmFsRG9jdW1lbnRJRD0ieG1wLmRpZDo1N0NEMjA4MDI1MjA2ODExOTk0QzkzNTEzRjZEQTg1NyIgeG1wTU06RG9jdW1lbnRJRD0ieG1wLmRpZDozM0NDOEJGNEZGNTcxMUUxODdBOEVCODg2RjdCQ0QwOSIgeG1wTU06SW5zdGFuY2VJRD0ieG1wLmlpZDozM0NDOEJGM0ZGNTcxMUUxODdBOEVCODg2RjdCQ0QwOSIgeG1wOkNyZWF0b3JUb29sPSJBZG9iZSBQaG90b3Nob3AgQ1M1IE1hY2ludG9zaCI+IDx4bXBNTTpEZXJpdmVkRnJvbSBzdFJlZjppbnN0YW5jZUlEPSJ4bXAuaWlkOkZDN0YxMTc0MDcyMDY4MTE5NUZFRDc5MUM2MUUwNEREIiBzdFJlZjpkb2N1bWVudElEPSJ4bXAuZGlkOjU3Q0QyMDgwMjUyMDY4MTE5OTRDOTM1MTNGNkRBODU3Ii8+IDwvcmRmOkRlc2NyaXB0aW9uPiA8L3JkZjpSREY+IDwveDp4bXBtZXRhPiA8P3hwYWNrZXQgZW5kPSJyIj8+84NovQAAAR1JREFUeNpiZEADy85ZJgCpeCB2QJM6AMQLo4yOL0AWZETSqACk1gOxAQN+cAGIA4EGPQBxmJA0nwdpjjQ8xqArmczw5tMHXAaALDgP1QMxAGqzAAPxQACqh4ER6uf5MBlkm0X4EGayMfMw/Pr7Bd2gRBZogMFBrv01hisv5jLsv9nLAPIOMnjy8RDDyYctyAbFM2EJbRQw+aAWw/LzVgx7b+cwCHKqMhjJFCBLOzAR6+lXX84xnHjYyqAo5IUizkRCwIENQQckGSDGY4TVgAPEaraQr2a4/24bSuoExcJCfAEJihXkWDj3ZAKy9EJGaEo8T0QSxkjSwORsCAuDQCD+QILmD1A9kECEZgxDaEZhICIzGcIyEyOl2RkgwAAhkmC+eAm0TAAAAABJRU5ErkJggg==)](https://orcid.org/0000-0003-1021-059X)"
   ],
   "id": "2ec935b5-03af-456b-b44f-bbe69098c5b5"
  },
  {
   "cell_type": "code",
   "execution_count": null,
   "metadata": {},
   "outputs": [],
   "source": [
    "library(tidyverse)\n",
    "library(kableExtra)\n",
    "library(readxl)\n",
    "library(writexl)\n"
   ],
   "id": "b31fb992-b73c-4835-8e07-292d53f20885"
  },
  {
   "cell_type": "markdown",
   "metadata": {},
   "source": [
    "## Retrieving metadata from the Web of Science"
   ],
   "id": "b8287f9c-71be-4a36-920b-a04f0e917637"
  },
  {
   "cell_type": "code",
   "execution_count": null,
   "metadata": {},
   "outputs": [],
   "source": [
    "use WoS;\n",
    " select a.code_discipline, a.OST_BK, i.Identifier as doi, a.Code_Document, Annee_Bibliographique as pub_year, Nb_Adresse as n_address, count(distinct ad.Institution) as n_inst, Nb_Auteur as n_author, Nb_Reference as n_ref, count(distinct c.OST_BK_Cite) as n_ref_indexed, l.Type as lang_type, l.Language as lang\n",
    "into BDMongeon.dbo.wos_all\n",
    "from pex.Article as a\n",
    "join pex.Liste_revue as r on r.Code_Revue = a.Code_Revue\n",
    "left join dbo.Identifier as i on i.OST_BK = a.OST_BK and i.Type = 'doi'\n",
    "left join dbo.Language_Normalized as l on l.OST_BK = a.OST_BK\n",
    "left join pex.Citations as c on c.OST_BK_Citant = a.OST_BK\n",
    "left join pex.Adresse as ad on ad.OST_BK = a.OST_BK\n",
    "where Annee_Bibliographique >= 2021 and \n",
    "      Annee_Bibliographique <= 2023 and \n",
    "      i.Identifier is not null\n",
    "group by a.code_discipline, a.OST_BK, i.Identifier, a.Code_Document, a.Annee_Bibliographique, Nb_Adresse , Nb_Auteur , Nb_Reference , l.Type , l.Language;\n",
    "\n",
    "select * from BDMongeon..wos_all\n"
   ],
   "id": "222c1fb1-f31a-4006-8892-8fe4c1481491"
  },
  {
   "cell_type": "code",
   "execution_count": null,
   "metadata": {},
   "outputs": [],
   "source": [
    "wos_data <- read_delim(\"data/wos_all.csv\", col_names = F, delim = \";\")\n",
    "colnames(wos_data) <- c(\"discipline\", \"OST_BK\", \"wos_doi\",\"wos_type\",\"wos_pub_year\",\"wod_n_address\",\"wos_n_inst\",\"wos_n_author\",\"wos_n_ref\",\"wos_n_ref_indexed\", \"wos_lang_type\",\"wos_language\")\n",
    "# 7661474\n"
   ],
   "id": "ae17c5ea-3672-49c5-a020-b27159514b95"
  },
  {
   "cell_type": "markdown",
   "metadata": {},
   "source": [
    "### removing records with multiple doc types"
   ],
   "id": "4038812c-c8aa-463c-8314-984c76bf2f66"
  },
  {
   "cell_type": "code",
   "execution_count": null,
   "metadata": {},
   "outputs": [],
   "source": [
    "wos_data<-wos_data %>% \n",
    "  group_by(wos_doi, wos_type) %>% \n",
    "  mutate(n = n()) %>% \n",
    "  filter(n == 1) %>% \n",
    "  ungroup() %>% \n",
    "  select(-n)\n",
    "# 7631080\n"
   ],
   "id": "59dbc299-e4e8-40e3-b37a-5a358f3ad3fa"
  },
  {
   "cell_type": "markdown",
   "metadata": {},
   "source": [
    "## Retrieving data from OpenAlex\n",
    "\n",
    "The commented code was used to collect data through BigQuery and save the data in a .rds file for future."
   ],
   "id": "ebb3e12b-5705-4009-80c2-764b10fdf3d7"
  },
  {
   "cell_type": "code",
   "execution_count": null,
   "metadata": {},
   "outputs": [],
   "source": [
    "library(bigrquery)\n",
    "sql <- str_c(\"select * from `global-timer-415013.wos_openalex.oa_works`\")\n",
    "tb <- bq_project_query(billing, sql)\n",
    "openalex_works<-bq_table_download(tb)\n",
    " saveRDS(openalex_works, \"data/openalex_works.rds\")\n"
   ],
   "id": "dbc90bbe-c663-420c-b744-d57de2e11f1f"
  },
  {
   "cell_type": "code",
   "execution_count": null,
   "metadata": {},
   "outputs": [],
   "source": [
    "oa_works <- readRDS(\"data/openalex_works.rds\")\n",
    "colnames(oa_works) <- c(\"oa_doi\",\"oa_type\",\"oa_pub_year\",\"oa_n_inst\",\"oa_n_author\", \"oa_n_ref_indexed\", \"oa_language\")\n"
   ],
   "id": "ac264724-8f48-4119-a8c1-be91b9cbf7db"
  },
  {
   "cell_type": "markdown",
   "metadata": {},
   "source": [
    "## Creating dataset for analysis"
   ],
   "id": "9bda9e98-243e-4b68-8442-f8c3f608edaf"
  },
  {
   "cell_type": "code",
   "execution_count": null,
   "metadata": {},
   "outputs": [],
   "source": [
    "data<-wos_data %>% \n",
    "  inner_join(oa_works, by=c(\"wos_doi\" = \"oa_doi\"))\n",
    "# 6,599,479 lines\n",
    "\n",
    "data<-data %>% \n",
    "  rename(doi = wos_doi) %>% \n",
    "  group_by(doi) %>% \n",
    "# Include only articles with only one DOI match between WoS and OpenAlex.\n",
    "  mutate(n=n()) %>% \n",
    "  filter(n == 1) %>%\n",
    "  select(-n) %>% \n",
    "  ungroup() %>% \n",
    "  group_by(OST_BK) %>% \n",
    "  mutate(n=n()) %>% \n",
    "  filter(n == 1) %>%\n",
    "  select(-n) %>% \n",
    "  ungroup()\n",
    "# 6,594,747 documents\n",
    "\n",
    "# replace wos_type code with text\n",
    "data<-data %>% \n",
    "  inner_join(read_tsv(\"data/Liste_Document.txt\") %>% select(Code_Document, doc_type = EType_Document), by=c(\"wos_type\" = \"Code_Document\")) %>% \n",
    "  select(-wos_type) %>% \n",
    "  rename(wos_type = doc_type) %>% \n",
    "  mutate(wos_type = str_to_lower(wos_type))  \n",
    "\n",
    "# Add disciplines\n",
    "data <- data %>%\n",
    "  inner_join(read_xlsx(\"data/Liste_Discipline.xlsx\") %>% \n",
    "               select(Code_Discipline, EDiscipline, ESpecialite, discipline_group), by=c(\"discipline\" = \"Code_Discipline\"))\n",
    "\n",
    "saveRDS(data, \"data/_data.rds\")\n",
    "rm(oa_works, wos_data)\n",
    "\n",
    "## To just load the file\n",
    "data<-readRDS(\"data/_data.rds\")\n"
   ],
   "id": "b363ff66-b2ef-4873-b33d-9bd10050df5d"
  },
  {
   "cell_type": "markdown",
   "metadata": {},
   "source": [
    "## Identifying discrepancies\n",
    "\n",
    "Function for sample size"
   ],
   "id": "dbd3ffb9-8ba5-440c-a3eb-b0af47b65ce0"
  },
  {
   "cell_type": "code",
   "execution_count": null,
   "metadata": {},
   "outputs": [],
   "source": [
    "sample_size<-function(N, c=.95) {\n",
    "  if(c == 0.95) n0 <- (1.96^2 * 0.5 * (1 - 0.5)) / (0.05^2)\n",
    "  if(c == 0.99) n0 <- (2.576^2 * 0.5 * (1 - 0.5)) / (0.05^2)\n",
    "  return(round(n0 / (1 + ((n0 - 1) / N))))\n",
    "} \n"
   ],
   "id": "8ff215e2-3052-4816-a985-7d3e486e5015"
  },
  {
   "cell_type": "markdown",
   "metadata": {},
   "source": [
    "### Document type\n",
    "\n",
    "This code creates tibble containing all the cases where there is a discrepancy in the document type."
   ],
   "id": "b12fb4b4-42b6-4eb3-bcaa-1c717a36f3bf"
  },
  {
   "cell_type": "code",
   "execution_count": null,
   "metadata": {},
   "outputs": [],
   "source": [
    "doc_type_discrepancies<-data %>% \n",
    "  mutate(discrepancy_doc_type = ifelse(oa_type!=wos_type,T,F)) %>% \n",
    "  mutate(discrepancy_doc_type = ifelse(oa_type==\"article\" & wos_type == \"review\",F,discrepancy_doc_type)) %>% \n",
    "  mutate(discrepancy_doc_type = ifelse(oa_type==\"review\" & wos_type == \"article\",F,discrepancy_doc_type)) %>% \n",
    "  filter(discrepancy_doc_type == T) %>% \n",
    "  mutate(doi_url = str_c(\"https://doi.org/\",doi , sep=\"\")) %>%\n",
    "  select(discipline_group, doi, doi_url, oa_type, wos_type)\n",
    "  \n",
    "# Number of doc type discrepancies: 582,786\n",
    "\n",
    "writexl::write_xlsx(doc_type_discrepancies,\"data/_all_doc_type_discrepancies.xlsx\")\n",
    "\n",
    "doc_type_discrepancies %>%\n",
    "  mutate(doi_url = str_c(\"https://doi.org/\",doi , sep=\"\")) %>%\n",
    "  select(discipline_group, doi, doi_url, oa_type, wos_type) %>% \n",
    "  filter(oa_type %in% c(\"article\",\"review\") | wos_type %in% c(\"review\",\"article\")) %>% \n",
    "  count()\n",
    "# 427,953\n"
   ],
   "id": "b9c6f192-b594-4535-8845-c681ef57b161"
  },
  {
   "cell_type": "markdown",
   "metadata": {},
   "source": [
    "#### Sample"
   ],
   "id": "73393ff8-2105-4d0f-90e1-6a52f498c21f"
  },
  {
   "cell_type": "code",
   "execution_count": null,
   "metadata": {},
   "outputs": [],
   "source": [
    "doc_type_discrepancies %>% \n",
    "  filter(oa_type %in% c(\"article\",\"review\")) %>%\n",
    "  filter(!wos_type %in% c(\"article\",\"review\",\"meeting_abstract\")) %>% \n",
    "  slice_sample(prop=sample_size(418965)/418965, by=c(\"discipline_group\",\"wos_type\")) %>% \n",
    "  writexl::write_xlsx(\"data/_final_oa_doc_type_sample.xlsx\")\n",
    "\n",
    "doc_type_discrepancies %>% \n",
    "  filter(wos_type %in% c(\"article\",\"review\")) %>%\n",
    "  filter(!oa_type %in% c(\"article\",\"review\")) %>% \n",
    "  slice_sample(prop=sample_size(8988)/8988, by=c(\"discipline_group\",\"wos_type\")) %>% \n",
    "  writexl::write_xlsx(\"data/_final_wos_doc_type_sample.xlsx\")\n",
    "\n",
    "# 427593 total\n",
    "# 8988 for WoS\n",
    "# 418965 for OpenAlex\n"
   ],
   "id": "6c40d562-56ff-48ac-8d79-07b333001e74"
  },
  {
   "cell_type": "markdown",
   "metadata": {},
   "source": [
    "### Subset of articles with no document type discrepancies"
   ],
   "id": "9250aae4-d5aa-4620-ab7f-d9e9fea0b1fc"
  },
  {
   "cell_type": "code",
   "execution_count": null,
   "metadata": {},
   "outputs": [],
   "source": [
    "data_articles <- data %>%\n",
    "  filter(wos_type %in% c(\"review\",\"article\")) %>%\n",
    "  filter(oa_type %in% c(\"review\",\"article\"))\n",
    "# 5924459 articles \n",
    "\n",
    "saveRDS(data_articles, \"data/_data_articles.rds\")\n",
    "\n",
    "data_articles <- readRDS(\"data/_data_articles.rds\")\n"
   ],
   "id": "6d3babb6-4a08-445d-afa7-a1520ed19025"
  },
  {
   "cell_type": "markdown",
   "metadata": {},
   "source": [
    "### Publication year"
   ],
   "id": "d3594e35-f68c-437a-ad7e-3d93587d75de"
  },
  {
   "cell_type": "code",
   "execution_count": null,
   "metadata": {},
   "outputs": [],
   "source": [
    "# Identify dicrepancies\n",
    "pub_year_discrepancies<-data_articles %>%\n",
    "  filter(wos_type %in% c(\"review\",\"article\")) %>% \n",
    "  filter(wos_pub_year - oa_pub_year != 0) %>% \n",
    "  mutate(diff_pub_year = wos_pub_year - oa_pub_year) %>% \n",
    "  mutate(bin = case_when(diff_pub_year < -3 ~ \"< -3\",\n",
    "                         diff_pub_year %in% (-2:-3) ~ \"-2 to -3\",\n",
    "                         diff_pub_year == -1 ~ \"-1\",\n",
    "                         diff_pub_year == 1 ~ \"1\",\n",
    "                         diff_pub_year %in% 2:3 ~ \"2 to 3\",\n",
    "                         diff_pub_year > 3 ~ \"> 3\",\n",
    "                         ))\n",
    "\n",
    "# Sample  \n",
    "sample_pub_year_discrepancies <- pub_year_discrepancies %>% \n",
    "  slice_sample(prop = sample_size(469124)/469124, by = c(\"discipline_group\", \"bin\"))\n",
    "\n",
    "## Adjust the sample by removing 43 observations in the \"1\" bin and redistributing them to other bins.\n",
    "sample_pub_year_discrepancies %>% \n",
    "  group_by(bin) %>% \n",
    "  reframe(n = n()) %>%\n",
    "  arrange(desc(n))\n",
    "\n",
    "sample_pub_year_discrepancies <- bind_rows(sample_pub_year_discrepancies,\n",
    "                                           pub_year_discrepancies %>% \n",
    "                                             filter(bin == \"-2 to -3\") %>% \n",
    "                                             slice_sample(n = 20))\n",
    "  \n",
    "sample_pub_year_discrepancies <- bind_rows(sample_pub_year_discrepancies,\n",
    "                                           pub_year_discrepancies %>% \n",
    "                                             filter(bin == \"> 3\") %>% \n",
    "                                             slice_sample(n = 20))\n",
    "\n",
    "\n",
    "sample_pub_year_discrepancies <- bind_rows(sample_pub_year_discrepancies,\n",
    "                                           pub_year_discrepancies %>% \n",
    "                                             filter(bin == \"2 to 3\") %>% \n",
    "                                             slice_sample(n = 3))\n",
    "\n",
    "to_remove <- sample_pub_year_discrepancies %>% \n",
    "  filter(bin == \"1\") %>% \n",
    "  slice_sample(n = 43)\n",
    "\n",
    "sample_pub_year_discrepancies <- sample_pub_year_discrepancies %>% \n",
    "  filter(!doi %in% to_remove$doi) %>% \n",
    "  mutate(doi_url = str_c(\"https://doi.org/\",doi , sep=\"\")) %>%\n",
    "  select(discipline_group, bin, doi, doi_url, oa_pub_year, wos_pub_year,\n",
    "         diff_pub_year)\n",
    "\n",
    "# Export in Excel for manual validation\n",
    "# sample_pub_year_discrepancies %>%\n",
    "#   mutate(doi_url = str_c(\"https://doi.org/\",doi , sep=\"\")) %>%\n",
    "#   select(discipline_group, bin, doi, doi_url, oa_pub_year, wos_pub_year, diff_pub_year) %>% \n",
    "#   mutate(correct_pub_year = as.numeric(NA)) %>% \n",
    "#   writexl::write_xlsx(\"data/discrepancy_sample_pub_year.xlsx\")\n"
   ],
   "id": "5bc9ca83-14c9-4a51-b4de-41bdd7012895"
  },
  {
   "cell_type": "markdown",
   "metadata": {},
   "source": [
    "### Language\n",
    "\n",
    "#### Number of records by language"
   ],
   "id": "f541ec28-f793-450e-8b0d-c03504c57ce1"
  },
  {
   "cell_type": "code",
   "execution_count": null,
   "metadata": {},
   "outputs": [],
   "source": [
    "lang_data <- data_articles %>%\n",
    "  select(discipline_group, doi, wos_language, oa_language)\n"
   ],
   "id": "d7edda61-6c49-4d05-ab78-56991b228e5d"
  },
  {
   "cell_type": "code",
   "execution_count": null,
   "metadata": {},
   "outputs": [],
   "source": [
    "wos_lang<-lang_data %>% \n",
    "  group_by(discipline_group, wos_language) %>% \n",
    "  reframe(n = n()) %>% \n",
    "  arrange(desc(n)) %>% \n",
    "  pivot_wider(names_from = discipline_group, values_from = n) %>%\n",
    "  mutate(across(everything(), ~replace(., is.na(.), 0))) %>% \n",
    "  mutate(total = AH+BM+NSE+SS) %>% \n",
    "  mutate(rank = rank(desc(total))) %>% \n",
    "  mutate(wos_language = ifelse(rank <= 10, wos_language, \"Other\")) %>% \n",
    "  mutate(rank = ifelse(rank >= 11, 11, rank)) %>% \n",
    "  group_by(wos_language, rank) %>% \n",
    "  reframe(NSE = sum(NSE),\n",
    "           BM = sum(BM),\n",
    "           SS = sum(SS),\n",
    "           AH = sum(AH),\n",
    "           total = sum(total)) %>% \n",
    "  arrange(rank) %>% \n",
    "  select(-rank)\n"
   ],
   "id": "2783392b-b2ad-47f3-94a6-2dd7f6ab018c"
  },
  {
   "cell_type": "code",
   "execution_count": null,
   "metadata": {},
   "outputs": [],
   "source": [
    "oa_lang<-lang_data %>% \n",
    "  filter(!is.na(oa_language)) %>% \n",
    "  group_by(discipline_group, oa_language) %>% \n",
    "  reframe(n = n()) %>% \n",
    "  arrange(desc(n)) %>% \n",
    "  pivot_wider(names_from = discipline_group, values_from = n) %>%\n",
    "  mutate(total = AH+BM+NSE+SS) %>%\n",
    "  mutate(rank = rank(desc(total))) %>% \n",
    "  arrange(rank) %>% \n",
    "  mutate(oa_language = case_when(oa_language == \"en\" ~ \"English\",\n",
    "                                 oa_language == \"es\" ~ \"Spanish\",\n",
    "                                 oa_language == \"de\" ~ \"German\",\n",
    "                                 oa_language == \"fr\" ~ \"French\",\n",
    "                                 oa_language == \"pt\" ~ \"Portugese\",\n",
    "                                 oa_language == \"pl\" ~ \"Polish\",\n",
    "                                 oa_language == \"tr\" ~ \"Turkish\",\n",
    "                                 oa_language == \"hu\" ~ \"Hungarian\",\n",
    "                                 oa_language == \"hr\" ~ \"Croatian\",\n",
    "                                 oa_language == \"ro\" ~ \"Romanian\"\n",
    "                                 )) %>% \n",
    "  mutate(oa_language = ifelse(is.na(oa_language),\"Other\",oa_language)) %>% \n",
    "  mutate(rank = ifelse(rank >= 11, 11, rank)) %>% \n",
    "  group_by(oa_language, rank) %>% \n",
    "  reframe(NSE = sum(NSE),\n",
    "           BM = sum(BM),\n",
    "           SS = sum(SS),\n",
    "           AH = sum(AH),\n",
    "           total = sum(total)) %>% \n",
    "  arrange(rank) %>% \n",
    "  select(-rank)\n"
   ],
   "id": "332e9847-7555-4361-ba46-348115eb69f0"
  },
  {
   "cell_type": "markdown",
   "metadata": {},
   "source": [
    "#### Discrepancies\n",
    "\n",
    "Create a excel file with all combinations of language and check whether they are the same language"
   ],
   "id": "96740dc9-1a41-4f52-b67a-5a62c91f2319"
  },
  {
   "cell_type": "code",
   "execution_count": null,
   "metadata": {},
   "outputs": [],
   "source": [
    "#Conversion of languages\n",
    "# data %>% \n",
    "#   group_by(wos_language, oa_language) %>% \n",
    "#   reframe(n = n()) %>% \n",
    "#   drop_na() %>% \n",
    "#   writexl::write_xlsx(\"data/language_conversion.xlsx\")\n"
   ],
   "id": "d8adc74e-c86d-4200-a9e0-73f0aa96f405"
  },
  {
   "cell_type": "code",
   "execution_count": null,
   "metadata": {},
   "outputs": [],
   "source": [
    "lang_discrepancies <- data_articles %>%  \n",
    "  inner_join(read_xlsx(\"data/language_conversion.xlsx\") %>% \n",
    "              filter(`Same language?` == 0), \n",
    "              by = c(\"wos_language\", \"oa_language\"))\n"
   ],
   "id": "3921ca01-3203-4176-95d8-d390b24c67ed"
  },
  {
   "cell_type": "code",
   "execution_count": null,
   "metadata": {},
   "outputs": [],
   "source": [
    "writexl::write_xlsx(lang_discrepancies, \"data/_discrepancies_language.xlsx\")\n"
   ],
   "id": "dccdc339-bac5-406c-8424-b1463f3a479d"
  },
  {
   "cell_type": "markdown",
   "metadata": {},
   "source": [
    "##### WoS"
   ],
   "id": "b4af1aa1-aa25-4f17-9ee6-d1053b0b7a59"
  },
  {
   "cell_type": "code",
   "execution_count": null,
   "metadata": {},
   "outputs": [],
   "source": [
    "wos_lang_disc<-lang_discrepancies %>% \n",
    "  group_by(discipline_group, wos_language) %>% \n",
    "  reframe(n = n()) %>% \n",
    "  arrange(desc(n)) %>% \n",
    "  pivot_wider(names_from = discipline_group, values_from = n) %>%\n",
    "  mutate(across(everything(), ~replace(., is.na(.), 0))) %>% \n",
    "  mutate(total = AH+BM+NSE+SS) %>% \n",
    "  mutate(rank = rank(desc(total))) %>%\n",
    "  mutate(wos_language = ifelse(wos_language %in% wos_lang$wos_language,wos_language,\"Other\")) %>% \n",
    "  mutate(rank = ifelse(wos_language == \"Other\",99,rank)) %>% \n",
    "  group_by(wos_language, rank) %>% \n",
    "  reframe(NSE = sum(NSE),\n",
    "           BM = sum(BM),\n",
    "           SS = sum(SS),\n",
    "           AH = sum(AH),\n",
    "           total = sum(total)) %>% \n",
    "  arrange(rank) %>% \n",
    "  select(-rank)\n"
   ],
   "id": "a959d1bf-da41-42c8-8b32-a30b4462cfe2"
  },
  {
   "cell_type": "markdown",
   "metadata": {},
   "source": [
    "##### OpenAlex"
   ],
   "id": "6ddd255b-3237-41aa-baf8-fb547be9a824"
  },
  {
   "cell_type": "code",
   "execution_count": null,
   "metadata": {},
   "outputs": [],
   "source": [
    "oa_lang_disc<-lang_discrepancies %>% \n",
    "  group_by(discipline_group, oa_language) %>% \n",
    "  reframe(n = n()) %>% \n",
    "  arrange(desc(n)) %>% \n",
    "  pivot_wider(names_from = discipline_group, values_from = n) %>%\n",
    "  mutate(across(everything(), ~replace(., is.na(.), 0))) %>% \n",
    "  mutate(total = AH+BM+NSE+SS) %>% \n",
    "  mutate(rank = rank(desc(total))) %>%\n",
    "    mutate(oa_language = case_when(oa_language == \"en\" ~ \"English\",\n",
    "                                 oa_language == \"es\" ~ \"Spanish\",\n",
    "                                 oa_language == \"de\" ~ \"German\",\n",
    "                                 oa_language == \"fr\" ~ \"French\",\n",
    "                                 oa_language == \"pt\" ~ \"Portugese\",\n",
    "                                 oa_language == \"pl\" ~ \"Polish\",\n",
    "                                 oa_language == \"tr\" ~ \"Turkish\",\n",
    "                                 oa_language == \"hu\" ~ \"Hungarian\",\n",
    "                                 oa_language == \"hr\" ~ \"Croatian\",\n",
    "                                 oa_language == \"ro\" ~ \"Romanian\"\n",
    "                                 )) %>% \n",
    "  mutate(oa_language = ifelse(is.na(oa_language),\"Other\",oa_language)) %>% \n",
    "  mutate(oa_language = ifelse(oa_language %in% oa_lang$oa_language,oa_language,\"Other\")) %>% \n",
    "  mutate(rank = ifelse(oa_language == \"Other\",99,rank)) %>% \n",
    "  group_by(oa_language, rank) %>% \n",
    "  reframe(NSE = sum(NSE),\n",
    "           BM = sum(BM),\n",
    "           SS = sum(SS),\n",
    "           AH = sum(AH),\n",
    "           total = sum(total)) %>% \n",
    "  arrange(rank) %>% \n",
    "  select(-rank) %>% \n",
    "  ungroup()\n"
   ],
   "id": "ebce5181-ce29-41ba-9b20-09fb1e03879b"
  },
  {
   "cell_type": "markdown",
   "metadata": {},
   "source": [
    "#### Sample of discrepancies for verification\n",
    "\n",
    "##### WoS\n",
    "\n",
    "Calculate the sample size in %"
   ],
   "id": "6e71b103-ecba-4221-816b-0b387b86be1e"
  },
  {
   "cell_type": "code",
   "execution_count": null,
   "metadata": {},
   "outputs": [],
   "source": [
    "sample_size(filter(wos_lang_disc, wos_language == \"English\")$total)\n",
    "# 377\n",
    "sample_size(filter(wos_lang_disc, wos_language == \"English\")$total)/filter(wos_lang_disc, wos_language == \"English\")$total*100\n",
    "1.88\n"
   ],
   "id": "e4d97e87-9dd0-4024-b72c-1f74916757e0"
  },
  {
   "cell_type": "code",
   "execution_count": null,
   "metadata": {},
   "outputs": [],
   "source": [
    "wos_lang_disc_sample<-lang_discrepancies %>%\n",
    "  filter(wos_language == \"English\") %>%\n",
    "  ungroup() %>% \n",
    "  slice_sample(prop=sample_size(filter(wos_lang_disc, wos_language == \"English\")$total)/filter(wos_lang_disc, wos_language == \"English\")$total, by=c(\"discipline_group\",\"oa_language\")) %>% \n",
    "  mutate(doi_url = str_c(\"https://doi.org/\",doi , sep=\"\")) %>%\n",
    "  select(discipline_group, doi, doi_url, wos_language, oa_language) %>% \n",
    "  mutate(correct_language = as.character(NA))\n",
    "\n",
    "wos_lang_disc_sample %>% \n",
    "  group_by(oa_language) %>% \n",
    "  reframe(n = n()) %>% \n",
    "  arrange(desc(n)) %>% \n",
    "  mutate(rank = rank(desc(n))) %>% \n",
    "  arrange(rank) %>% \n",
    "  select(-rank) %>% \n",
    "  mutate(oa_language = case_when(oa_language == \"en\" ~ \"English\",\n",
    "                                 oa_language == \"es\" ~ \"Spanish\",\n",
    "                                 oa_language == \"de\" ~ \"German\",\n",
    "                                 oa_language == \"fr\" ~ \"French\",\n",
    "                                 oa_language == \"pt\" ~ \"Portugese\",\n",
    "                                 oa_language == \"pl\" ~ \"Polish\",\n",
    "                                 oa_language == \"tr\" ~ \"Turkish\",\n",
    "                                 oa_language == \"hu\" ~ \"Hungarian\",\n",
    "                                 oa_language == \"hr\" ~ \"Croatian\",\n",
    "                                 oa_language == \"ro\" ~ \"Romanian\",\n",
    "                                 oa_language == \"id\" ~ \"Indonesian\")) %>% \n",
    "  mutate(oa_language = ifelse(is.na(oa_language),\"Other\",oa_language)) %>% \n",
    "  group_by(oa_language) %>% \n",
    "  reframe(n = sum(n))\n"
   ],
   "id": "77e84517-37fb-4bbc-9d67-c65e05231dbb"
  },
  {
   "cell_type": "markdown",
   "metadata": {},
   "source": [
    "Create the Excel file for manual validation"
   ],
   "id": "7a963a8b-8f69-446e-b03a-a1719b83ae2c"
  },
  {
   "cell_type": "code",
   "execution_count": null,
   "metadata": {},
   "outputs": [],
   "source": [
    "wos_lang_disc_sample %>%\n",
    "  mutate(doi_url = str_c(\"https://doi.org/\",doi , sep=\"\")) %>%\n",
    "  select(doi, doi_url, oa_language, wos_language) %>% \n",
    "  mutate(correct_language = as.character(NA)) %>% \n",
    "  writexl::write_xlsx(\"data/discrepancies_sample_wos_language.xlsx\")\n"
   ],
   "id": "b181063e-ed3b-41e3-a1f0-38c56910f793"
  },
  {
   "cell_type": "markdown",
   "metadata": {},
   "source": [
    "##### OpenAlex"
   ],
   "id": "f3834db7-5352-4eba-9f45-75c39efbc222"
  },
  {
   "cell_type": "code",
   "execution_count": null,
   "metadata": {},
   "outputs": [],
   "source": [
    "sample_size(filter(oa_lang_disc, oa_language == \"English\")$total)\n",
    "# 373\n",
    "sample_size(filter(oa_lang_disc, oa_language == \"English\")$total)/filter(oa_lang_disc, oa_language == \"English\")$total*100\n",
    "3.01\n"
   ],
   "id": "074f362f-8517-4cb8-8707-3b02a0d1b3e5"
  },
  {
   "cell_type": "code",
   "execution_count": null,
   "metadata": {},
   "outputs": [],
   "source": [
    "oa_lang_disc_sample<-lang_discrepancies %>%\n",
    "  filter(oa_language == \"en\") %>% \n",
    "  ungroup() %>% \n",
    "  slice_sample(prop=0.0301, by=c(\"discipline_group\",\"wos_language\")) %>% \n",
    "  mutate(doi_url = str_c(\"https://doi.org/\",doi , sep=\"\")) %>%\n",
    "  select(discipline_group, doi, doi_url, wos_language, oa_language) %>% \n",
    "  mutate(correct_language = as.character(NA))\n"
   ],
   "id": "7fad808d-0af4-4a8e-9734-c270583e1edb"
  },
  {
   "cell_type": "code",
   "execution_count": null,
   "metadata": {},
   "outputs": [],
   "source": [
    "oa_lang_disc_sample %>%\n",
    "  mutate(doi_url = str_c(\"https://doi.org/\",doi , sep=\"\")) %>%\n",
    "  select(doi, doi_url, wos_language, oa_language) %>% \n",
    "  mutate(correct_language = as.character(NA)) %>% \n",
    "  writexl::write_xlsx(\"data/discrepancies_sample_oa_language.xlsx\")\n"
   ],
   "id": "46ebeb24-1c49-44a1-98d3-6bea0119eccc"
  },
  {
   "cell_type": "markdown",
   "metadata": {},
   "source": [
    "## Number of authors"
   ],
   "id": "6c698fce-e1c9-482b-954c-96fe9e30ecd6"
  },
  {
   "cell_type": "code",
   "execution_count": null,
   "metadata": {},
   "outputs": [],
   "source": [
    "n_author_discrepancies<-data_articles %>%  \n",
    "  filter(wos_n_author - oa_n_author != 0) %>% \n",
    "  mutate(diff_n_author = wos_n_author - oa_n_author) %>% \n",
    "  select(discipline_group, doi, wos_n_author, oa_n_author, diff_n_author) \n",
    "\n",
    "n_author_discrepancies<- n_author_discrepancies %>% \n",
    "    ungroup() %>% \n",
    "    mutate(bin = case_when(diff_n_author < -3 ~ \"< -3\",\n",
    "                         diff_n_author %in% (-2:-3) ~ \"-2 to -5\",\n",
    "                         diff_n_author == -1 ~ \"-1\",\n",
    "                         diff_n_author == 1 ~ \"1\",\n",
    "                         diff_n_author %in% 2:3 ~ \"2 to 3\",\n",
    "                         diff_n_author > 3 ~ \"> 3\",\n",
    "                         ))\n"
   ],
   "id": "0167e4a3-318c-4d81-a09a-aa4a193f9867"
  },
  {
   "cell_type": "code",
   "execution_count": null,
   "metadata": {},
   "outputs": [],
   "source": [
    "writexl::write_xlsx(n_author_discrepancies, \"data/_discrepancies_n_authors.xlsx\")\n"
   ],
   "id": "47e3ae04-e693-490f-8374-583714fd3edc"
  },
  {
   "cell_type": "code",
   "execution_count": null,
   "metadata": {},
   "outputs": [],
   "source": [
    "s<-sample_size(nrow(n_author_discrepancies))/nrow(n_author_discrepancies)\n",
    "sample_n_author_discrepancies <- n_author_discrepancies %>%\n",
    "  ungroup() %>% \n",
    "  slice_sample(prop = s, by=c(\"discipline_group\",\"bin\"))\n"
   ],
   "id": "e05ecc02-c1bc-439c-a847-5ced5546e38b"
  },
  {
   "cell_type": "code",
   "execution_count": null,
   "metadata": {},
   "outputs": [],
   "source": [
    "sample_n_author_discrepancies %>%\n",
    "  mutate(doi_url = str_c(\"https://doi.org/\",doi , sep=\"\")) %>%\n",
    "  select(discipline_group, doi_url, oa_n_author, wos_n_author) %>% \n",
    "  mutate(correct_n_author = as.numeric(NA)) %>% \n",
    "  writexl::write_xlsx(\"data/discrepancy_sample_n_author.xlsx\")\n",
    "\n",
    "sample_n_author_discrepancies %>% \n",
    "  mutate(doi_url = str_c(\"https://doi.org/\",doi , sep=\"\")) %>% \n",
    "  select(doi = doi_url, oa_n_author, wos_n_author) %>% \n",
    "  mutate(correct_n_author = as.numeric(NA)) %>% \n",
    "  writexl::write_xlsx(\"data/discrepancies_sample_n_author.xlsx\")\n"
   ],
   "id": "7ee835e3-7aec-47fb-9b12-5612e8b9836f"
  },
  {
   "cell_type": "code",
   "execution_count": null,
   "metadata": {},
   "outputs": [],
   "source": [
    "n_authors_old<-read_xlsx(\"data/discrepancy_sample_n_author_old.xlsx\")\n",
    "\n",
    "n_authors_old %>%\n",
    "  group_by(diff) %>% \n",
    "  reframe(n=n()) %>% \n",
    "  arrange(desc(n))\n",
    "\n",
    "n_authors_old <- n_authors_old %>% \n",
    "  mutate(bin = case_when(diff < -3 ~ \"< -3\",\n",
    "                         diff %in% (-2:-3) ~ \"-2 to -3\",\n",
    "                         diff == -1 ~ \"-1\",\n",
    "                         diff == 1 ~ \"1\",\n",
    "                         diff %in% 2:3 ~ \"2 to 3\",\n",
    "                         diff > 3 ~ \"> 3\",\n",
    "                         ))\n",
    "\n",
    "x<-sample_n_author_discrepancies %>% \n",
    "  group_by(bin, discipline_group) %>% \n",
    "  reframe(n = n())\n",
    "  \n",
    "a<-tibble()\n",
    "i=1\n",
    "while(i <= nrow(x)) {\n",
    "  dg<-x$discipline_group[i]\n",
    "  b<-x$bin[i] \n",
    "  n<-x$n[i]\n",
    "  y<- n_authors_old %>% \n",
    "    filter(discipline_group == dg & bin == b) %>%\n",
    "    slice_sample(n=n)\n",
    "  \n",
    "  z<-bind_rows(y,\n",
    "               sample_n_author_discrepancies %>%\n",
    "                 filter(discipline_group == dg & bin\n",
    "                        == l) %>% \n",
    "                 slice_sample(n=n-nrow(y)))\n",
    "  \n",
    "  a<-bind_rows(a,z)\n",
    "  i=i+1\n",
    "}\n",
    "\n",
    "\n",
    "a %>% \n",
    "  group_by(bin) %>% \n",
    "  reframe(n = n()) %>%\n",
    "  arrange(desc(n))\n",
    "\n",
    "\n",
    "writexl::write_xlsx(a, \"data/final_n_author_sample.xlsx\" ) \n"
   ],
   "id": "912f255e-c6d2-425a-9efb-a3e3b1f6a110"
  },
  {
   "cell_type": "markdown",
   "metadata": {},
   "source": [
    "## Preparing dataset with all the discrepancies"
   ],
   "id": "f6f653c9-78db-4dca-ab16-5acde6a3780c"
  },
  {
   "cell_type": "code",
   "execution_count": null,
   "metadata": {},
   "outputs": [],
   "source": [
    "x <- lang_discrepancies %>% \n",
    "  select(doi) %>% \n",
    "  mutate(disc_lang = T)\n",
    "\n",
    "full_data <- data %>% \n",
    "  mutate(discrepancy_doc_type = ifelse(oa_type!=wos_type,T,F)) %>%\n",
    "  mutate(discrepancy_doc_type = ifelse(oa_type==\"article\" & wos_type == \"review\",F,discrepancy_doc_type)) %>% \n",
    "  mutate(discrepancy_doc_type = ifelse(oa_type==\"review\" & wos_type == \"article\",F,discrepancy_doc_type)) %>% \n",
    "  mutate(diff_pub_year = wos_pub_year - oa_pub_year) %>% \n",
    "  mutate(disc_pub_year = ifelse(diff_pub_year != 0,T,F)) %>% \n",
    "  mutate(diff_n_author = wos_n_author - oa_n_author) %>% \n",
    "  mutate(disc_n_author = ifelse(diff_n_author != 0,T,F)) %>% \n",
    "  left_join(x, by=\"doi\") %>% \n",
    "  mutate(disc_lang = ifelse(is.na(disc_lang),F,T))\n",
    "\n",
    "# saveRDS(full_data, \"data/full_data.rds\")\n"
   ],
   "id": "62ee2870-6dff-4ac1-a782-5ccd3d629807"
  }
 ],
 "nbformat": 4,
 "nbformat_minor": 5,
 "metadata": {}
}
