{
 "cells": [
  {
   "cell_type": "markdown",
   "metadata": {},
   "source": [
    "# Data collection\n",
    "\n",
    "Philippe Mongeon [![](data:image/png;base64,iVBORw0KGgoAAAANSUhEUgAAABAAAAAQCAYAAAAf8/9hAAAAGXRFWHRTb2Z0d2FyZQBBZG9iZSBJbWFnZVJlYWR5ccllPAAAA2ZpVFh0WE1MOmNvbS5hZG9iZS54bXAAAAAAADw/eHBhY2tldCBiZWdpbj0i77u/IiBpZD0iVzVNME1wQ2VoaUh6cmVTek5UY3prYzlkIj8+IDx4OnhtcG1ldGEgeG1sbnM6eD0iYWRvYmU6bnM6bWV0YS8iIHg6eG1wdGs9IkFkb2JlIFhNUCBDb3JlIDUuMC1jMDYwIDYxLjEzNDc3NywgMjAxMC8wMi8xMi0xNzozMjowMCAgICAgICAgIj4gPHJkZjpSREYgeG1sbnM6cmRmPSJodHRwOi8vd3d3LnczLm9yZy8xOTk5LzAyLzIyLXJkZi1zeW50YXgtbnMjIj4gPHJkZjpEZXNjcmlwdGlvbiByZGY6YWJvdXQ9IiIgeG1sbnM6eG1wTU09Imh0dHA6Ly9ucy5hZG9iZS5jb20veGFwLzEuMC9tbS8iIHhtbG5zOnN0UmVmPSJodHRwOi8vbnMuYWRvYmUuY29tL3hhcC8xLjAvc1R5cGUvUmVzb3VyY2VSZWYjIiB4bWxuczp4bXA9Imh0dHA6Ly9ucy5hZG9iZS5jb20veGFwLzEuMC8iIHhtcE1NOk9yaWdpbmFsRG9jdW1lbnRJRD0ieG1wLmRpZDo1N0NEMjA4MDI1MjA2ODExOTk0QzkzNTEzRjZEQTg1NyIgeG1wTU06RG9jdW1lbnRJRD0ieG1wLmRpZDozM0NDOEJGNEZGNTcxMUUxODdBOEVCODg2RjdCQ0QwOSIgeG1wTU06SW5zdGFuY2VJRD0ieG1wLmlpZDozM0NDOEJGM0ZGNTcxMUUxODdBOEVCODg2RjdCQ0QwOSIgeG1wOkNyZWF0b3JUb29sPSJBZG9iZSBQaG90b3Nob3AgQ1M1IE1hY2ludG9zaCI+IDx4bXBNTTpEZXJpdmVkRnJvbSBzdFJlZjppbnN0YW5jZUlEPSJ4bXAuaWlkOkZDN0YxMTc0MDcyMDY4MTE5NUZFRDc5MUM2MUUwNEREIiBzdFJlZjpkb2N1bWVudElEPSJ4bXAuZGlkOjU3Q0QyMDgwMjUyMDY4MTE5OTRDOTM1MTNGNkRBODU3Ii8+IDwvcmRmOkRlc2NyaXB0aW9uPiA8L3JkZjpSREY+IDwveDp4bXBtZXRhPiA8P3hwYWNrZXQgZW5kPSJyIj8+84NovQAAAR1JREFUeNpiZEADy85ZJgCpeCB2QJM6AMQLo4yOL0AWZETSqACk1gOxAQN+cAGIA4EGPQBxmJA0nwdpjjQ8xqArmczw5tMHXAaALDgP1QMxAGqzAAPxQACqh4ER6uf5MBlkm0X4EGayMfMw/Pr7Bd2gRBZogMFBrv01hisv5jLsv9nLAPIOMnjy8RDDyYctyAbFM2EJbRQw+aAWw/LzVgx7b+cwCHKqMhjJFCBLOzAR6+lXX84xnHjYyqAo5IUizkRCwIENQQckGSDGY4TVgAPEaraQr2a4/24bSuoExcJCfAEJihXkWDj3ZAKy9EJGaEo8T0QSxkjSwORsCAuDQCD+QILmD1A9kECEZgxDaEZhICIzGcIyEyOl2RkgwAAhkmC+eAm0TAAAAABJRU5ErkJggg==)](https://orcid.org/0000-0003-1021-059X)"
   ],
   "id": "43355be6-35a0-4e61-a81d-ab03f68aad95"
  },
  {
   "cell_type": "code",
   "execution_count": null,
   "metadata": {},
   "outputs": [],
   "source": [
    "library(tidyverse)\n",
    "library(kableExtra)\n",
    "library(readxl)\n",
    "library(writexl)\n"
   ],
   "id": "5b1bdc64-cac9-4724-8f2d-5d260ceefc23"
  },
  {
   "cell_type": "markdown",
   "metadata": {},
   "source": [
    "## Retrieving metadata from the Web of Science"
   ],
   "id": "48ff6679-5f7f-4c60-91b5-ce4aeb4f6ee5"
  },
  {
   "cell_type": "code",
   "execution_count": null,
   "metadata": {},
   "outputs": [],
   "source": [
    "use WoS;\n",
    " select a.code_discipline, a.OST_BK, i.Identifier as doi, a.Code_Document, Annee_Bibliographique as pub_year, Nb_Adresse as n_address, count(distinct ad.Institution) as n_inst, Nb_Auteur as n_author, Nb_Reference as n_ref, count(distinct c.OST_BK_Cite) as n_ref_indexed, l.Type as lang_type, l.Language as lang\n",
    "into BDMongeon.dbo.wos_all\n",
    "from pex.Article as a\n",
    "join pex.Liste_revue as r on r.Code_Revue = a.Code_Revue\n",
    "left join dbo.Identifier as i on i.OST_BK = a.OST_BK and i.Type = 'doi'\n",
    "left join dbo.Language_Normalized as l on l.OST_BK = a.OST_BK\n",
    "left join pex.Citations as c on c.OST_BK_Citant = a.OST_BK\n",
    "left join pex.Adresse as ad on ad.OST_BK = a.OST_BK\n",
    "where Annee_Bibliographique >= 2021 and \n",
    "      Annee_Bibliographique <= 2023 and \n",
    "      i.Identifier is not null\n",
    "group by a.code_discipline, a.OST_BK, i.Identifier, a.Code_Document, a.Annee_Bibliographique, Nb_Adresse , Nb_Auteur , Nb_Reference , l.Type , l.Language;\n",
    "\n",
    "select * from BDMongeon..wos_all\n"
   ],
   "id": "d74ed0f5-ed63-4929-b13f-2f5c3e500d5d"
  },
  {
   "cell_type": "code",
   "execution_count": null,
   "metadata": {},
   "outputs": [],
   "source": [
    "wos_data <- read_delim(\"data/wos_all.csv\", col_names = F, delim = \";\")\n",
    "colnames(wos_data) <- c(\"discipline\", \"OST_BK\", \"wos_doi\",\"wos_type\",\"wos_pub_year\",\"wod_n_address\",\"wos_n_inst\",\"wos_n_author\",\"wos_n_ref\",\"wos_n_ref_indexed\", \"wos_lang_type\",\"wos_language\")\n",
    "wos_data <- wos_data %>% select(OST_BK, discipline, wos_doi, wos_type, wos_pub_year, wos_n_author, wos_lang_type, wos_language)\n",
    "# 7661474\n",
    "\n",
    "wos_data_pre_2021 <- read_delim(\"data/wos_all_pre_2021.txt\", col_names = FALSE)\n",
    "colnames(wos_data_pre_2021) <- c(\"OST_BK\", \"discipline\", \"wos_doi\",\"wos_type\",\"wos_pub_year\",\"wos_n_author\",\"wos_lang_type\",\"wos_language\")\n",
    "#24,463,499\n"
   ],
   "id": "9f2f7ada-1732-4948-ba3f-6ae059c820a0"
  },
  {
   "cell_type": "markdown",
   "metadata": {},
   "source": [
    "### removing records with multiple doc types"
   ],
   "id": "ef10dd91-c7a4-460f-90d7-ed8f528b615b"
  },
  {
   "cell_type": "code",
   "execution_count": null,
   "metadata": {},
   "outputs": [],
   "source": [
    "wos_data<-wos_data %>% \n",
    "  group_by(wos_doi, wos_type) %>% \n",
    "  mutate(n = n()) %>% \n",
    "  filter(n == 1) %>% \n",
    "  ungroup() %>% \n",
    "  select(-n)\n",
    "# 7,631,080\n",
    "\n",
    "wos_data_pre_2021<-wos_data_pre_2021 %>% \n",
    "  group_by(wos_doi, wos_type) %>% \n",
    "  mutate(n = n()) %>% \n",
    "  filter(n == 1) %>% \n",
    "  ungroup() %>% \n",
    "  select(-n)\n",
    "# 24,440,114\n"
   ],
   "id": "c6d3ee17-b71d-4de7-92bc-787b3800efde"
  },
  {
   "cell_type": "markdown",
   "metadata": {},
   "source": [
    "## Retrieving data from OpenAlex\n",
    "\n",
    "The commented code was used to collect data through BigQuery and save the data in a .rds file for future."
   ],
   "id": "35146e61-b692-4f74-8d9f-06a95df4c117"
  },
  {
   "cell_type": "code",
   "execution_count": null,
   "metadata": {},
   "outputs": [],
   "source": [
    "library(bigrquery)\n",
    "\n",
    "billing <- \"879484244771\"\n",
    "\n",
    "sql<-\"Create table `global-timer-415013.wos_openalex.oa_works_full` AS \n",
    "SELECT id, doi, authors_count, type, publication_year, language  FROM `insyspo.publicdb_openalex_2024_02_rm.works`\n",
    "Where publication_year > 2020 and publication_year < 2024;\"\n",
    "bq_project_query(billing, sql)\n",
    "\n",
    "sql <- str_c(\"select * from `global-timer-415013.wos_openalex.oa_works_full`\")\n",
    "tb <- bq_project_query(billing, sql)\n",
    "openalex_works_full<-bq_table_download(tb)\n",
    "saveRDS(openalex_works_full, \"data/openalex_works_full.rds\")\n"
   ],
   "id": "a3646b2d-9d3b-4cf5-a4e9-7a0ee8953e57"
  },
  {
   "cell_type": "code",
   "execution_count": null,
   "metadata": {},
   "outputs": [],
   "source": [
    "oa_works_2021_2023 <- readRDS(\"data/openalex_works_full.rds\")\n",
    "  \n",
    "oa_works_2021_2023 <- oa_works_2021_2023 %>% rename(oa_doi = doi, oa_n_author = authors_count, oa_type = type, oa_pub_year = publication_year, oa_language = language) \n",
    "# 26,942,411\n",
    "\n",
    "oa_works_2021_2023 <- oa_works_2021_2023 %>% \n",
    "  mutate(oa_doi = str_remove(oa_doi, \"https://doi.org/\"))\n",
    " \n",
    "oa_works_matched <- readRDS(\"data/openalex_works.rds\") \n",
    "colnames(oa_works_matched) <- c(\"oa_doi\",\"oa_type\",\"oa_pub_year\",\"oa_n_inst\",\"oa_n_author\", \"oa_n_ref_indexed\", \"oa_language\")\n"
   ],
   "id": "51fcef90-ef64-41fe-9b7c-d39ed9e78690"
  },
  {
   "cell_type": "markdown",
   "metadata": {},
   "source": [
    "## Creating dataset for analysis"
   ],
   "id": "6b3085a9-75e8-4ac0-a98a-d91ad4b568d3"
  },
  {
   "cell_type": "code",
   "execution_count": null,
   "metadata": {},
   "outputs": [],
   "source": [
    "x<-wos_data %>% \n",
    "  inner_join(oa_works_matched, by=c(\"wos_doi\" = \"oa_doi\"))\n",
    "# 6,599,479 lines\n",
    "\n",
    "y<-wos_data_pre_2021 %>% \n",
    "  inner_join(oa_works_2021_2023, by=c(\"wos_doi\" = \"oa_doi\"))\n",
    "# 13,618\n",
    "\n",
    "data<-bind_rows(x,y)\n",
    "# 6,613,097\n",
    "\n",
    "data<-data %>% \n",
    "  rename(doi = wos_doi) %>% \n",
    "  group_by(doi) %>% \n",
    "# Include only articles with only one DOI match between WoS and OpenAlex.\n",
    "  mutate(n=n()) %>% \n",
    "  filter(n == 1) %>%\n",
    "  select(-n) %>% \n",
    "  ungroup() %>% \n",
    "  group_by(OST_BK) %>% \n",
    "  mutate(n=n()) %>% \n",
    "  filter(n == 1) %>%\n",
    "  select(-n) %>% \n",
    "  ungroup()\n",
    "# 6,608,243 documents\n",
    "\n",
    "# fix the n_authors \n",
    "data<-data %>% \n",
    "  mutate(oa_n_author = ifelse(is.na(oa_n_author),n_author,oa_n_author)) %>% \n",
    "  select(-id, -n_author, -oa_n_ref_indexed, -oa_n_inst)\n",
    "\n",
    "# replace wos_type code with text\n",
    "data<-data %>% \n",
    "  inner_join(read_tsv(\"data/Liste_Document.txt\") %>% select(Code_Document, doc_type = EType_Document), by=c(\"wos_type\" = \"Code_Document\")) %>% \n",
    "  select(-wos_type) %>% \n",
    "  rename(wos_type = doc_type) %>% \n",
    "  mutate(wos_type = str_to_lower(wos_type))  \n",
    "\n",
    "\n",
    "# Add disciplines\n",
    "data <- data %>%\n",
    "  inner_join(readxl::read_xlsx(\"data/Liste_Discipline.xlsx\") %>% \n",
    "               select(Code_Discipline, discipline_group), by=c(\"discipline\" = \"Code_Discipline\"))\n",
    "\n",
    "saveRDS(data, \"data/_data.rds\")\n",
    "rm(oa_works, wos_data)\n",
    "rm(oa_works_2021_2023, oa_works_matched, x, y, wos_data_pre_2021)\n",
    "\n",
    "## To just load the file\n",
    "data<-readRDS(\"data/_data.rds\")\n"
   ],
   "id": "4fdcf498-08e1-426d-a13c-c197aabfa909"
  },
  {
   "cell_type": "markdown",
   "metadata": {},
   "source": [
    "## Identifying discrepancies\n",
    "\n",
    "Function for sample size"
   ],
   "id": "c82ba51a-d023-4708-a3f1-524bd0d48a14"
  },
  {
   "cell_type": "code",
   "execution_count": null,
   "metadata": {},
   "outputs": [],
   "source": [
    "sample_size<-function(N, c=.95) {\n",
    "  if(c == 0.95) n0 <- (1.96^2 * 0.5 * (1 - 0.5)) / (0.05^2)\n",
    "  if(c == 0.99) n0 <- (2.576^2 * 0.5 * (1 - 0.5)) / (0.05^2)\n",
    "  return(round(n0 / (1 + ((n0 - 1) / N))))\n",
    "} \n"
   ],
   "id": "d384288e-85ef-4e17-8a97-ecc4828a6e14"
  },
  {
   "cell_type": "markdown",
   "metadata": {},
   "source": [
    "### Document type\n",
    "\n",
    "This code creates tibble containing all the cases where there is a discrepancy in the document type."
   ],
   "id": "2ae7dc74-7506-45d3-8e33-2dcef04882d0"
  },
  {
   "cell_type": "code",
   "execution_count": null,
   "metadata": {},
   "outputs": [],
   "source": [
    "doc_type_discrepancies<-data %>% \n",
    "  mutate(discrepancy_doc_type = ifelse(oa_type!=wos_type,T,F)) %>% \n",
    "  mutate(discrepancy_doc_type = ifelse(oa_type==\"article\" & wos_type == \"review\",F,discrepancy_doc_type)) %>% \n",
    "  mutate(discrepancy_doc_type = ifelse(oa_type==\"review\" & wos_type == \"article\",F,discrepancy_doc_type)) %>% \n",
    "  filter(discrepancy_doc_type == T) %>% \n",
    "  mutate(doi_url = str_c(\"https://doi.org/\",doi , sep=\"\")) %>%\n",
    "  select(discipline_group, doi, doi_url, oa_type, wos_type)\n",
    "  \n",
    "# Number of doc type discrepancies: 584,555\n",
    "\n",
    "writexl::write_xlsx(doc_type_discrepancies,\"data/_all_doc_type_discrepancies.xlsx\")\n",
    "\n",
    "doc_type_discrepancies %>%\n",
    "  mutate(doi_url = str_c(\"https://doi.org/\",doi , sep=\"\")) %>%\n",
    "  select(discipline_group, doi, doi_url, oa_type, wos_type) %>% \n",
    "  filter(oa_type %in% c(\"article\",\"review\") | wos_type %in% c(\"review\",\"article\")) %>% \n",
    "  count()\n",
    "# 429,692\n"
   ],
   "id": "a70988df-3232-4b80-b475-1d8dd95ab811"
  },
  {
   "cell_type": "markdown",
   "metadata": {},
   "source": [
    "#### Sample"
   ],
   "id": "94ca7d4f-0ad9-4324-8500-848a3206cc65"
  },
  {
   "cell_type": "code",
   "execution_count": null,
   "metadata": {},
   "outputs": [],
   "source": [
    "doc_type_discrepancies %>% \n",
    "  filter(oa_type %in% c(\"article\",\"review\")) %>%\n",
    "  filter(!wos_type %in% c(\"article\",\"review\",\"meeting_abstract\")) %>% \n",
    "  count()\n",
    "\n",
    "#%>% \n",
    "#  slice_sample(prop=sample_size(418965)/418965, by=c(\"discipline_group\",\"wos_type\")) %>% \n",
    "#  writexl::write_xlsx(\"data/_final_oa_doc_type_sample.xlsx\")\n",
    "\n",
    "doc_type_discrepancies %>% \n",
    "  filter(wos_type %in% c(\"article\",\"review\")) %>%\n",
    "  filter(!oa_type %in% c(\"article\",\"review\")) %>%\n",
    "  count()\n",
    "\n",
    "#  slice_sample(prop=sample_size(8988)/8988, by=c(\"discipline_group\",\"wos_type\")) %>% \n",
    "#  writexl::write_xlsx(\"data/_final_wos_doc_type_sample.xlsx\")\n",
    "\n",
    "# 429,692\n",
    "# 8993 for WoS\n",
    "# 420699 for OpenAlex\n"
   ],
   "id": "b9aeffc8-3c9f-4b0d-903f-8dea502d0df6"
  },
  {
   "cell_type": "markdown",
   "metadata": {},
   "source": [
    "### Subset of articles with no document type discrepancies"
   ],
   "id": "58c1aa40-9b4e-4430-b817-5df7c9f7c866"
  },
  {
   "cell_type": "code",
   "execution_count": null,
   "metadata": {},
   "outputs": [],
   "source": [
    "data_articles <- data %>%\n",
    "  filter(wos_type %in% c(\"review\",\"article\")) %>%\n",
    "  filter(oa_type %in% c(\"review\",\"article\"))\n",
    "# 5,936,235 articles \n",
    "\n",
    "saveRDS(data_articles, \"data/_data_articles.rds\")\n",
    "\n",
    "data_articles <- readRDS(\"data/_data_articles.rds\")\n"
   ],
   "id": "8bbe9b29-878e-4dee-bee9-6287151cf76f"
  },
  {
   "cell_type": "markdown",
   "metadata": {},
   "source": [
    "### Publication year"
   ],
   "id": "7c558981-b519-4278-b58f-924b754556ca"
  },
  {
   "cell_type": "code",
   "execution_count": null,
   "metadata": {},
   "outputs": [],
   "source": [
    "# Identify dicrepancies\n",
    "pub_year_discrepancies<-data_articles %>%\n",
    "  filter(wos_type %in% c(\"review\",\"article\")) %>% \n",
    "  filter(wos_pub_year - oa_pub_year != 0) %>% \n",
    "  mutate(diff_pub_year = wos_pub_year - oa_pub_year) %>% \n",
    "  mutate(bin = case_when(diff_pub_year < -3 ~ \"< -3\",\n",
    "                         diff_pub_year %in% (-2:-3) ~ \"-2 to -3\",\n",
    "                         diff_pub_year == -1 ~ \"-1\",\n",
    "                         diff_pub_year == 1 ~ \"1\",\n",
    "                         diff_pub_year %in% 2:3 ~ \"2 to 3\",\n",
    "                         diff_pub_year > 3 ~ \"> 3\",\n",
    "                         ))\n",
    "\n",
    "pub_year_discrepancies %>% \n",
    "  writexl::write_xlsx(\"data/_discrepancies_pub_year.xlsx\")\n",
    "\n",
    "# Sample  \n",
    "sample_pub_year_discrepancies <- pub_year_discrepancies %>% \n",
    "  slice_sample(prop = sample_size(469124)/469124, by = c(\"discipline_group\", \"bin\"))\n",
    "\n",
    "## Adjust the sample by removing 43 observations in the \"1\" bin and redistributing them to other bins.\n",
    "sample_pub_year_discrepancies %>% \n",
    "  group_by(bin) %>% \n",
    "  reframe(n = n()) %>%\n",
    "  arrange(desc(n))\n",
    "\n",
    "sample_pub_year_discrepancies <- bind_rows(sample_pub_year_discrepancies,\n",
    "                                           pub_year_discrepancies %>% \n",
    "                                             filter(bin == \"< -3\") %>% \n",
    "                                             slice_sample(n = 20))\n",
    "\n",
    "sample_pub_year_discrepancies <- bind_rows(sample_pub_year_discrepancies,\n",
    "                                           pub_year_discrepancies %>% \n",
    "                                             filter(bin == \"-2 to -3\") %>% \n",
    "                                             slice_sample(n = 20))\n",
    "  \n",
    "sample_pub_year_discrepancies <- bind_rows(sample_pub_year_discrepancies,\n",
    "                                           pub_year_discrepancies %>% \n",
    "                                             filter(bin == \"> 3\") %>% \n",
    "                                             slice_sample(n = 20))\n",
    "\n",
    "\n",
    "sample_pub_year_discrepancies <- bind_rows(sample_pub_year_discrepancies,\n",
    "                                           pub_year_discrepancies %>% \n",
    "                                             filter(bin == \"2 to 3\") %>% \n",
    "                                             slice_sample(n = 3))\n",
    "\n",
    "to_remove <- sample_pub_year_discrepancies %>% \n",
    "  filter(bin == \"1\") %>% \n",
    "  slice_sample(n = 43)\n",
    "\n",
    "sample_pub_year_discrepancies <- sample_pub_year_discrepancies %>% \n",
    "  filter(!doi %in% to_remove$doi) %>% \n",
    "  mutate(doi_url = str_c(\"https://doi.org/\",doi , sep=\"\")) %>%\n",
    "  select(discipline_group, bin, doi, doi_url, oa_pub_year, wos_pub_year,\n",
    "         diff_pub_year)\n",
    "\n",
    "# Export in Excel for manual validation\n",
    "# sample_pub_year_discrepancies %>%\n",
    "#   mutate(doi_url = str_c(\"https://doi.org/\",doi , sep=\"\")) %>%\n",
    "#   select(discipline_group, bin, doi, doi_url, oa_pub_year, wos_pub_year, diff_pub_year) %>% \n",
    "#   mutate(correct_pub_year = as.numeric(NA)) %>% \n",
    "#   writexl::write_xlsx(\"data/discrepancy_sample_pub_year.xlsx\")\n"
   ],
   "id": "2aae9bf6-f934-427c-9625-064ec5b2ce30"
  },
  {
   "cell_type": "markdown",
   "metadata": {},
   "source": [
    "### Language\n",
    "\n",
    "#### Number of records by language"
   ],
   "id": "350c9d9d-0fec-438c-b86d-637c878ad983"
  },
  {
   "cell_type": "code",
   "execution_count": null,
   "metadata": {},
   "outputs": [],
   "source": [
    "lang_data <- data_articles %>%\n",
    "  select(discipline_group, doi, wos_language, oa_language)\n"
   ],
   "id": "07d77a45-bfdb-4220-9629-f40de78bce1c"
  },
  {
   "cell_type": "code",
   "execution_count": null,
   "metadata": {},
   "outputs": [],
   "source": [
    "wos_lang<-lang_data %>% \n",
    "  group_by(discipline_group, wos_language) %>% \n",
    "  reframe(n = n()) %>% \n",
    "  arrange(desc(n)) %>% \n",
    "  pivot_wider(names_from = discipline_group, values_from = n) %>%\n",
    "  mutate(across(everything(), ~replace(., is.na(.), 0))) %>% \n",
    "  mutate(total = AH+BM+NSE+SS) %>% \n",
    "  mutate(rank = rank(desc(total))) %>% \n",
    "  mutate(wos_language = ifelse(rank <= 10, wos_language, \"Other\")) %>% \n",
    "  mutate(rank = ifelse(rank >= 11, 11, rank)) %>% \n",
    "  group_by(wos_language, rank) %>% \n",
    "  reframe(NSE = sum(NSE),\n",
    "           BM = sum(BM),\n",
    "           SS = sum(SS),\n",
    "           AH = sum(AH),\n",
    "           total = sum(total)) %>% \n",
    "  arrange(rank) %>% \n",
    "  select(-rank)\n"
   ],
   "id": "e21fef8e-6db3-462b-8e3a-f1eed3c9a28e"
  },
  {
   "cell_type": "code",
   "execution_count": null,
   "metadata": {},
   "outputs": [],
   "source": [
    "oa_lang<-lang_data %>% \n",
    "  filter(!is.na(oa_language)) %>% \n",
    "  group_by(discipline_group, oa_language) %>% \n",
    "  reframe(n = n()) %>% \n",
    "  arrange(desc(n)) %>% \n",
    "  pivot_wider(names_from = discipline_group, values_from = n) %>%\n",
    "  mutate(total = AH+BM+NSE+SS) %>%\n",
    "  mutate(rank = rank(desc(total))) %>% \n",
    "  arrange(rank) %>% \n",
    "  mutate(oa_language = case_when(oa_language == \"en\" ~ \"English\",\n",
    "                                 oa_language == \"es\" ~ \"Spanish\",\n",
    "                                 oa_language == \"de\" ~ \"German\",\n",
    "                                 oa_language == \"fr\" ~ \"French\",\n",
    "                                 oa_language == \"pt\" ~ \"Portugese\",\n",
    "                                 oa_language == \"pl\" ~ \"Polish\",\n",
    "                                 oa_language == \"tr\" ~ \"Turkish\",\n",
    "                                 oa_language == \"hu\" ~ \"Hungarian\",\n",
    "                                 oa_language == \"hr\" ~ \"Croatian\",\n",
    "                                 oa_language == \"ro\" ~ \"Romanian\"\n",
    "                                 )) %>% \n",
    "  mutate(oa_language = ifelse(is.na(oa_language),\"Other\",oa_language)) %>% \n",
    "  mutate(rank = ifelse(rank >= 11, 11, rank)) %>% \n",
    "  group_by(oa_language, rank) %>% \n",
    "  reframe(NSE = sum(NSE),\n",
    "           BM = sum(BM),\n",
    "           SS = sum(SS),\n",
    "           AH = sum(AH),\n",
    "           total = sum(total)) %>% \n",
    "  arrange(rank) %>% \n",
    "  select(-rank)\n"
   ],
   "id": "1a6d3ec9-4b12-4f39-94ef-8b9d8d936a48"
  },
  {
   "cell_type": "markdown",
   "metadata": {},
   "source": [
    "#### Discrepancies\n",
    "\n",
    "Create ann Excel file with all combinations of language and check whether they are the same language"
   ],
   "id": "726b9987-4167-423d-9ae2-096089b1e37f"
  },
  {
   "cell_type": "code",
   "execution_count": null,
   "metadata": {},
   "outputs": [],
   "source": [
    "#Conversion of languages\n",
    "# data %>% \n",
    "#   group_by(wos_language, oa_language) %>% \n",
    "#   reframe(n = n()) %>% \n",
    "#   drop_na() %>% \n",
    "#   writexl::write_xlsx(\"data/language_conversion.xlsx\")\n"
   ],
   "id": "c245a4f7-340c-4313-92d5-25f0333d1197"
  },
  {
   "cell_type": "code",
   "execution_count": null,
   "metadata": {},
   "outputs": [],
   "source": [
    "lang_discrepancies <- data_articles %>%  \n",
    "  inner_join(readxl::read_xlsx(\"data/language_conversion.xlsx\") %>% \n",
    "              filter(`Same language?` == 0), \n",
    "              by = c(\"wos_language\", \"oa_language\"))\n"
   ],
   "id": "f5fd7387-8b69-49bc-8933-8b6533e71754"
  },
  {
   "cell_type": "code",
   "execution_count": null,
   "metadata": {},
   "outputs": [],
   "source": [
    "writexl::write_xlsx(lang_discrepancies, \"data/_discrepancies_language.xlsx\")\n"
   ],
   "id": "f0fffc24-5bfc-486b-940b-ead34efbfe6e"
  },
  {
   "cell_type": "markdown",
   "metadata": {},
   "source": [
    "##### WoS"
   ],
   "id": "63d4b7eb-dd06-4351-bc67-e6cff0bff3f6"
  },
  {
   "cell_type": "code",
   "execution_count": null,
   "metadata": {},
   "outputs": [],
   "source": [
    "wos_lang_disc<-lang_discrepancies %>% \n",
    "  group_by(discipline_group, wos_language) %>% \n",
    "  reframe(n = n()) %>% \n",
    "  arrange(desc(n)) %>% \n",
    "  pivot_wider(names_from = discipline_group, values_from = n) %>%\n",
    "  mutate(across(everything(), ~replace(., is.na(.), 0))) %>% \n",
    "  mutate(total = AH+BM+NSE+SS) %>% \n",
    "  mutate(rank = rank(desc(total))) %>%\n",
    "  mutate(wos_language = ifelse(wos_language %in% wos_lang$wos_language,wos_language,\"Other\")) %>% \n",
    "  mutate(rank = ifelse(wos_language == \"Other\",99,rank)) %>% \n",
    "  group_by(wos_language, rank) %>% \n",
    "  reframe(NSE = sum(NSE),\n",
    "           BM = sum(BM),\n",
    "           SS = sum(SS),\n",
    "           AH = sum(AH),\n",
    "           total = sum(total)) %>% \n",
    "  arrange(rank) %>% \n",
    "  select(-rank)\n"
   ],
   "id": "312935e8-446d-4dfd-9c82-7ac3af5c20f2"
  },
  {
   "cell_type": "markdown",
   "metadata": {},
   "source": [
    "##### OpenAlex"
   ],
   "id": "4cc8a1bc-eecb-4409-a5a4-c92576b70c63"
  },
  {
   "cell_type": "code",
   "execution_count": null,
   "metadata": {},
   "outputs": [],
   "source": [
    "oa_lang_disc<-lang_discrepancies %>% \n",
    "  group_by(discipline_group, oa_language) %>% \n",
    "  reframe(n = n()) %>% \n",
    "  arrange(desc(n)) %>% \n",
    "  pivot_wider(names_from = discipline_group, values_from = n) %>%\n",
    "  mutate(across(everything(), ~replace(., is.na(.), 0))) %>% \n",
    "  mutate(total = AH+BM+NSE+SS) %>% \n",
    "  mutate(rank = rank(desc(total))) %>%\n",
    "    mutate(oa_language = case_when(oa_language == \"en\" ~ \"English\",\n",
    "                                 oa_language == \"es\" ~ \"Spanish\",\n",
    "                                 oa_language == \"de\" ~ \"German\",\n",
    "                                 oa_language == \"fr\" ~ \"French\",\n",
    "                                 oa_language == \"pt\" ~ \"Portugese\",\n",
    "                                 oa_language == \"pl\" ~ \"Polish\",\n",
    "                                 oa_language == \"tr\" ~ \"Turkish\",\n",
    "                                 oa_language == \"hu\" ~ \"Hungarian\",\n",
    "                                 oa_language == \"hr\" ~ \"Croatian\",\n",
    "                                 oa_language == \"ro\" ~ \"Romanian\"\n",
    "                                 )) %>% \n",
    "  mutate(oa_language = ifelse(is.na(oa_language),\"Other\",oa_language)) %>% \n",
    "  mutate(oa_language = ifelse(oa_language %in% oa_lang$oa_language,oa_language,\"Other\")) %>% \n",
    "  mutate(rank = ifelse(oa_language == \"Other\",99,rank)) %>% \n",
    "  group_by(oa_language, rank) %>% \n",
    "  reframe(NSE = sum(NSE),\n",
    "           BM = sum(BM),\n",
    "           SS = sum(SS),\n",
    "           AH = sum(AH),\n",
    "           total = sum(total)) %>% \n",
    "  arrange(rank) %>% \n",
    "  select(-rank) %>% \n",
    "  ungroup()\n"
   ],
   "id": "6061dd02-15ae-42a5-ae1c-a82884b3f83a"
  },
  {
   "cell_type": "markdown",
   "metadata": {},
   "source": [
    "#### Sample of discrepancies for verification\n",
    "\n",
    "##### WoS\n",
    "\n",
    "Calculate the sample size in %"
   ],
   "id": "5e91228c-d10f-4b39-b3bf-c1fd6f373f60"
  },
  {
   "cell_type": "code",
   "execution_count": null,
   "metadata": {},
   "outputs": [],
   "source": [
    "sample_size(filter(wos_lang_disc, wos_language == \"English\")$total)\n",
    "# 377\n",
    "sample_size(filter(wos_lang_disc, wos_language == \"English\")$total)/filter(wos_lang_disc, wos_language == \"English\")$total*100\n",
    "1.88\n"
   ],
   "id": "8cbbf30d-4a8e-43ac-831d-d830bad0c643"
  },
  {
   "cell_type": "code",
   "execution_count": null,
   "metadata": {},
   "outputs": [],
   "source": [
    "wos_lang_disc_sample<-lang_discrepancies %>%\n",
    "  filter(wos_language == \"English\") %>%\n",
    "  ungroup() %>% \n",
    "  slice_sample(prop=sample_size(filter(wos_lang_disc, wos_language == \"English\")$total)/filter(wos_lang_disc, wos_language == \"English\")$total, by=c(\"discipline_group\",\"oa_language\")) %>% \n",
    "  mutate(doi_url = str_c(\"https://doi.org/\",doi , sep=\"\")) %>%\n",
    "  select(discipline_group, doi, doi_url, wos_language, oa_language) %>% \n",
    "  mutate(correct_language = as.character(NA))\n",
    "\n",
    "wos_lang_disc_sample %>% \n",
    "  group_by(oa_language) %>% \n",
    "  reframe(n = n()) %>% \n",
    "  arrange(desc(n)) %>% \n",
    "  mutate(rank = rank(desc(n))) %>% \n",
    "  arrange(rank) %>% \n",
    "  select(-rank) %>% \n",
    "  mutate(oa_language = case_when(oa_language == \"en\" ~ \"English\",\n",
    "                                 oa_language == \"es\" ~ \"Spanish\",\n",
    "                                 oa_language == \"de\" ~ \"German\",\n",
    "                                 oa_language == \"fr\" ~ \"French\",\n",
    "                                 oa_language == \"pt\" ~ \"Portugese\",\n",
    "                                 oa_language == \"pl\" ~ \"Polish\",\n",
    "                                 oa_language == \"tr\" ~ \"Turkish\",\n",
    "                                 oa_language == \"hu\" ~ \"Hungarian\",\n",
    "                                 oa_language == \"hr\" ~ \"Croatian\",\n",
    "                                 oa_language == \"ro\" ~ \"Romanian\",\n",
    "                                 oa_language == \"id\" ~ \"Indonesian\")) %>% \n",
    "  mutate(oa_language = ifelse(is.na(oa_language),\"Other\",oa_language)) %>% \n",
    "  group_by(oa_language) %>% \n",
    "  reframe(n = sum(n))\n"
   ],
   "id": "3bc932f4-2d83-40ba-ac40-2103936a8458"
  },
  {
   "cell_type": "markdown",
   "metadata": {},
   "source": [
    "Create the Excel file for manual validation"
   ],
   "id": "433482d7-da70-455a-8637-47606ed660a5"
  },
  {
   "cell_type": "code",
   "execution_count": null,
   "metadata": {},
   "outputs": [],
   "source": [
    "wos_lang_disc_sample %>%\n",
    "  mutate(doi_url = str_c(\"https://doi.org/\",doi , sep=\"\")) %>%\n",
    "  select(doi, doi_url, oa_language, wos_language) %>% \n",
    "  mutate(correct_language = as.character(NA)) %>% \n",
    "  writexl::write_xlsx(\"data/discrepancies_sample_wos_language.xlsx\")\n"
   ],
   "id": "cf77bfde-b5f8-4ef5-915c-4984ae908f70"
  },
  {
   "cell_type": "markdown",
   "metadata": {},
   "source": [
    "##### OpenAlex"
   ],
   "id": "834ad502-9a67-4f08-9b73-71e47c0ddd03"
  },
  {
   "cell_type": "code",
   "execution_count": null,
   "metadata": {},
   "outputs": [],
   "source": [
    "sample_size(filter(oa_lang_disc, oa_language == \"English\")$total)\n",
    "# 373\n",
    "sample_size(filter(oa_lang_disc, oa_language == \"English\")$total)/filter(oa_lang_disc, oa_language == \"English\")$total*100\n",
    "3.01\n"
   ],
   "id": "8dae6d47-5d3b-4a6e-9320-d2a635726e43"
  },
  {
   "cell_type": "code",
   "execution_count": null,
   "metadata": {},
   "outputs": [],
   "source": [
    "oa_lang_disc_sample<-lang_discrepancies %>%\n",
    "  filter(oa_language == \"en\") %>% \n",
    "  ungroup() %>% \n",
    "  slice_sample(prop=0.0301, by=c(\"discipline_group\",\"wos_language\")) %>% \n",
    "  mutate(doi_url = str_c(\"https://doi.org/\",doi , sep=\"\")) %>%\n",
    "  select(discipline_group, doi, doi_url, wos_language, oa_language) %>% \n",
    "  mutate(correct_language = as.character(NA))\n"
   ],
   "id": "2664ceb0-2e73-4508-8fad-825b889addd1"
  },
  {
   "cell_type": "code",
   "execution_count": null,
   "metadata": {},
   "outputs": [],
   "source": [
    "oa_lang_disc_sample %>%\n",
    "  mutate(doi_url = str_c(\"https://doi.org/\",doi , sep=\"\")) %>%\n",
    "  select(doi, doi_url, wos_language, oa_language) %>% \n",
    "  mutate(correct_language = as.character(NA)) %>% \n",
    "  writexl::write_xlsx(\"data/discrepancies_sample_oa_language.xlsx\")\n"
   ],
   "id": "471ebb9d-fe5b-420e-acd5-089749e21a3d"
  },
  {
   "cell_type": "markdown",
   "metadata": {},
   "source": [
    "## Number of authors"
   ],
   "id": "90b2cf47-4a44-496a-a686-78a866764fda"
  },
  {
   "cell_type": "code",
   "execution_count": null,
   "metadata": {},
   "outputs": [],
   "source": [
    "n_author_discrepancies<-data_articles %>%  \n",
    "  filter(wos_n_author - oa_n_author != 0) %>% \n",
    "  mutate(diff_n_author = wos_n_author - oa_n_author) %>% \n",
    "  select(discipline_group, doi, wos_n_author, oa_n_author, diff_n_author) \n",
    "\n",
    "n_author_discrepancies<- n_author_discrepancies %>% \n",
    "    ungroup() %>% \n",
    "    mutate(bin = case_when(diff_n_author < -3 ~ \"< -3\",\n",
    "                         diff_n_author %in% (-2:-3) ~ \"-2 to -5\",\n",
    "                         diff_n_author == -1 ~ \"-1\",\n",
    "                         diff_n_author == 1 ~ \"1\",\n",
    "                         diff_n_author %in% 2:3 ~ \"2 to 3\",\n",
    "                         diff_n_author > 3 ~ \"> 3\",\n",
    "                         ))\n"
   ],
   "id": "5f2c2128-17bc-485b-9f2e-841310cc58a3"
  },
  {
   "cell_type": "code",
   "execution_count": null,
   "metadata": {},
   "outputs": [],
   "source": [
    "writexl::write_xlsx(n_author_discrepancies, \"data/_discrepancies_n_authors.xlsx\")\n"
   ],
   "id": "0c079113-612a-4eb7-ae13-892bdd0cf06c"
  },
  {
   "cell_type": "code",
   "execution_count": null,
   "metadata": {},
   "outputs": [],
   "source": [
    "s<-sample_size(nrow(n_author_discrepancies))/nrow(n_author_discrepancies)\n",
    "sample_n_author_discrepancies <- n_author_discrepancies %>%\n",
    "  ungroup() %>% \n",
    "  slice_sample(prop = s, by=c(\"discipline_group\",\"bin\"))\n"
   ],
   "id": "c411bacf-c3f3-48f9-b63a-72b87c1377ff"
  },
  {
   "cell_type": "code",
   "execution_count": null,
   "metadata": {},
   "outputs": [],
   "source": [
    "sample_n_author_discrepancies %>%\n",
    "  mutate(doi_url = str_c(\"https://doi.org/\",doi , sep=\"\")) %>%\n",
    "  select(discipline_group, doi_url, oa_n_author, wos_n_author) %>% \n",
    "  mutate(correct_n_author = as.numeric(NA)) %>% \n",
    "  writexl::write_xlsx(\"data/discrepancy_sample_n_author.xlsx\")\n",
    "\n",
    "sample_n_author_discrepancies %>% \n",
    "  mutate(doi_url = str_c(\"https://doi.org/\",doi , sep=\"\")) %>% \n",
    "  select(doi = doi_url, oa_n_author, wos_n_author) %>% \n",
    "  mutate(correct_n_author = as.numeric(NA)) %>% \n",
    "  writexl::write_xlsx(\"data/discrepancies_sample_n_author.xlsx\")\n"
   ],
   "id": "3fb310ad-2b51-43f0-944b-7881c7d5a3c5"
  },
  {
   "cell_type": "code",
   "execution_count": null,
   "metadata": {},
   "outputs": [],
   "source": [
    "n_authors_old<-read_xlsx(\"data/discrepancy_sample_n_author_old.xlsx\")\n",
    "\n",
    "n_authors_old %>%\n",
    "  group_by(diff) %>% \n",
    "  reframe(n=n()) %>% \n",
    "  arrange(desc(n))\n",
    "\n",
    "n_authors_old <- n_authors_old %>% \n",
    "  mutate(bin = case_when(diff < -3 ~ \"< -3\",\n",
    "                         diff %in% (-2:-3) ~ \"-2 to -3\",\n",
    "                         diff == -1 ~ \"-1\",\n",
    "                         diff == 1 ~ \"1\",\n",
    "                         diff %in% 2:3 ~ \"2 to 3\",\n",
    "                         diff > 3 ~ \"> 3\",\n",
    "                         ))\n",
    "\n",
    "x<-sample_n_author_discrepancies %>% \n",
    "  group_by(bin, discipline_group) %>% \n",
    "  reframe(n = n())\n",
    "  \n",
    "a<-tibble()\n",
    "i=1\n",
    "while(i <= nrow(x)) {\n",
    "  dg<-x$discipline_group[i]\n",
    "  b<-x$bin[i] \n",
    "  n<-x$n[i]\n",
    "  y<- n_authors_old %>% \n",
    "    filter(discipline_group == dg & bin == b) %>%\n",
    "    slice_sample(n=n)\n",
    "  \n",
    "  z<-bind_rows(y,\n",
    "               sample_n_author_discrepancies %>%\n",
    "                 filter(discipline_group == dg & bin\n",
    "                        == l) %>% \n",
    "                 slice_sample(n=n-nrow(y)))\n",
    "  \n",
    "  a<-bind_rows(a,z)\n",
    "  i=i+1\n",
    "}\n",
    "\n",
    "\n",
    "a %>% \n",
    "  group_by(bin) %>% \n",
    "  reframe(n = n()) %>%\n",
    "  arrange(desc(n))\n",
    "\n",
    "\n",
    "writexl::write_xlsx(a, \"data/final_n_author_sample.xlsx\" ) \n"
   ],
   "id": "cb3ad0f1-e1b6-4196-b916-519e5fb82c11"
  },
  {
   "cell_type": "markdown",
   "metadata": {},
   "source": [
    "## Preparing dataset with all the discrepancies"
   ],
   "id": "59082a3f-1911-4d96-bc80-c6fe5bff48cc"
  },
  {
   "cell_type": "code",
   "execution_count": null,
   "metadata": {},
   "outputs": [],
   "source": [
    "x <- lang_discrepancies %>% \n",
    "  select(doi) %>% \n",
    "  mutate(disc_lang = T)\n",
    "\n",
    "full_data <- data %>% \n",
    "  mutate(discrepancy_doc_type = ifelse(oa_type!=wos_type,T,F)) %>%\n",
    "  mutate(discrepancy_doc_type = ifelse(oa_type==\"article\" & wos_type == \"review\",F,discrepancy_doc_type)) %>% \n",
    "  mutate(discrepancy_doc_type = ifelse(oa_type==\"review\" & wos_type == \"article\",F,discrepancy_doc_type)) %>% \n",
    "  mutate(diff_pub_year = wos_pub_year - oa_pub_year) %>% \n",
    "  mutate(disc_pub_year = ifelse(diff_pub_year != 0,T,F)) %>% \n",
    "  mutate(diff_n_author = wos_n_author - oa_n_author) %>% \n",
    "  mutate(disc_n_author = ifelse(diff_n_author != 0,T,F)) %>% \n",
    "  left_join(x, by=\"doi\") %>% \n",
    "  mutate(disc_lang = ifelse(is.na(disc_lang),F,T))\n",
    "\n",
    "# saveRDS(full_data, \"data/full_data.rds\")\n"
   ],
   "id": "68c3da7f-4115-4ab2-8168-fc12c06f787e"
  }
 ],
 "nbformat": 4,
 "nbformat_minor": 5,
 "metadata": {}
}
